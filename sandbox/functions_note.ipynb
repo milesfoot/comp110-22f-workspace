{
 "cells": [
  {
   "cell_type": "code",
   "execution_count": 2,
   "metadata": {},
   "outputs": [
    {
     "name": "stdout",
     "output_type": "stream",
     "text": [
      "blue\n"
     ]
    }
   ],
   "source": [
    "colors: dict[str, str] = ({\"Marc\": \"yellow\", \"Ezri\": \"blue\", \"Kris\": \"blue\"})\n",
    "\n",
    "def favorite_color(colors: dict[str, str]) -> str:\n",
    "    \"\"\"Determines the color most frequently inputed as a value.\"\"\"\n",
    "    color_count = {}\n",
    "    for key, value in colors.items():\n",
    "        if value not in color_count:\n",
    "            color_count[value] = 0\n",
    "        else:\n",
    "            color_count[value] += 1     \n",
    "    return((max(color_count,key = color_count.get)))\n",
    "\n",
    "print(favorite_color(colors))"
   ]
  },
  {
   "cell_type": "code",
   "execution_count": null,
   "metadata": {},
   "outputs": [],
   "source": [
    "def count(items: list[str]) -> dict[str, int]:\n",
    "    \"\"\"Counting the frequency of a certain value!\"\"\"\n",
    "    new_dict = {}\n",
    "    sett = set()\n",
    "    for i in items:\n",
    "        if i in sett:\n",
    "            new_dict[i] = new_dict[i] + 1\n",
    "        else:\n",
    "            new_dict[i] = 1\n",
    "            sett.add(i)\n",
    "    return new_dict\n",
    "print(count([\"blue\", \"yellow\", \"purple\", \"blue\", \"blue\"]))\n"
   ]
  },
  {
   "cell_type": "code",
   "execution_count": null,
   "metadata": {},
   "outputs": [],
   "source": [
    "def invert(old_dict: dict[str, str]) -> dict[str, str]:\n",
    "    \"\"\"Inverts the values and keys within a list.\"\"\"\n",
    "    new_dict = {}\n",
    "    for value in old_dict:\n",
    "        if value not in new_dict:\n",
    "            new_dict = dict([value, key] for  key, value in old_dict.items())\n",
    "        else:\n",
    "            raise KeyError(\"Duplicate Keys, Turn Back!\")\n",
    "    return new_dict\n",
    "print(invert({'kris': 'jordan', 'michael': 'jarden'}))"
   ]
  }
 ],
 "metadata": {
  "kernelspec": {
   "display_name": "Python 3.10.7 64-bit (microsoft store)",
   "language": "python",
   "name": "python3"
  },
  "language_info": {
   "codemirror_mode": {
    "name": "ipython",
    "version": 3
   },
   "file_extension": ".py",
   "mimetype": "text/x-python",
   "name": "python",
   "nbconvert_exporter": "python",
   "pygments_lexer": "ipython3",
   "version": "3.10.8"
  },
  "orig_nbformat": 4,
  "vscode": {
   "interpreter": {
    "hash": "99be551faded5997e90cc8ca9ed8121adf4716697cd6ba2630f05f70a7777684"
   }
  }
 },
 "nbformat": 4,
 "nbformat_minor": 2
}
